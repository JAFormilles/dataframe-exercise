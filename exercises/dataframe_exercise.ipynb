{
 "cells": [
  {
   "cell_type": "code",
   "id": "e6f02bc3",
   "metadata": {
    "ExecuteTime": {
     "end_time": "2025-09-22T14:34:57.261864Z",
     "start_time": "2025-09-22T14:34:56.702800Z"
    }
   },
   "source": [
    "# 1\n",
    "import pandas as pd\n",
    "# Sample sales dataset (20 rows)\n",
    "data = {\n",
    "\"OrderID\": range(1001, 1021),\n",
    "\"Product\": [\n",
    "\"Laptop\", \"Mouse\", \"Keyboard\", \"Monitor\", \"Laptop\",\n",
    "\"Headphones\", \"Mouse\", \"Chair\", \"Desk\", \"Laptop\",\n",
    "\"Printer\", \"Keyboard\", \"Monitor\", \"Mouse\", \"Laptop\",\n",
    "\"Headphones\", \"Desk\", \"Monitor\", \"Printer\", \"Chair\"\n",
    "],\n",
    "\"Category\": [\n",
    "\"Electronics\", \"Accessories\", \"Accessories\", \"Electronics\", \"Electronics\",\n",
    "\"Accessories\", \"Accessories\", \"Furniture\", \"Furniture\", \"Electronics\",\n",
    "\"Electronics\", \"Accessories\", \"Electronics\", \"Accessories\", \"Electronics\",\n",
    "\"Accessories\", \"Furniture\", \"Electronics\", \"Electronics\", \"Furniture\"\n",
    "],\n",
    "\"Quantity\": [2, 5, 3, 4, 1, 6, 10, 2, 1, 3, 2, 4, 2, 7, 5, 3, 2, 4, 1, 6],\n",
    "\"Price\": [800, 20, 50, 200, 850, 40, 25, 150, 300, 900, 120, 55, 250, 20, 750, 35, 280, 220, 110, 180],\n",
    "\"Customer\": [\n",
    "\"Alice\", \"Bob\", \"Charlie\", \"Diana\", \"Ethan\",\n",
    "\"Fiona\", \"George\", \"Hannah\", \"Ian\", \"Jane\",\n",
    "\"Kyle\", \"Laura\", \"Mike\", \"Nina\", \"Oscar\",\n",
    "\"Paul\", \"Queen\", \"Robert\", \"Sarah\", \"Tom\"\n",
    "],\n",
    "\"Region\": [\n",
    "\"North\", \"South\", \"East\", \"West\", \"North\",\n",
    "\"South\", \"East\", \"West\", \"North\", \"South\",\n",
    "\"East\", \"West\", \"North\", \"South\", \"East\",\n",
    "\"West\", \"North\", \"South\", \"East\", \"West\"\n",
    "]\n",
    "}\n",
    "# Create DataFrame\n",
    "df = pd.DataFrame(data)\n",
    "# Compute Total column\n",
    "df[\"Total\"] = df[\"Quantity\"] * df[\"Price\"]\n",
    "print(df)"
   ],
   "outputs": [
    {
     "name": "stdout",
     "output_type": "stream",
     "text": [
      "    OrderID     Product     Category  Quantity  Price Customer Region  Total\n",
      "0      1001      Laptop  Electronics         2    800    Alice  North   1600\n",
      "1      1002       Mouse  Accessories         5     20      Bob  South    100\n",
      "2      1003    Keyboard  Accessories         3     50  Charlie   East    150\n",
      "3      1004     Monitor  Electronics         4    200    Diana   West    800\n",
      "4      1005      Laptop  Electronics         1    850    Ethan  North    850\n",
      "5      1006  Headphones  Accessories         6     40    Fiona  South    240\n",
      "6      1007       Mouse  Accessories        10     25   George   East    250\n",
      "7      1008       Chair    Furniture         2    150   Hannah   West    300\n",
      "8      1009        Desk    Furniture         1    300      Ian  North    300\n",
      "9      1010      Laptop  Electronics         3    900     Jane  South   2700\n",
      "10     1011     Printer  Electronics         2    120     Kyle   East    240\n",
      "11     1012    Keyboard  Accessories         4     55    Laura   West    220\n",
      "12     1013     Monitor  Electronics         2    250     Mike  North    500\n",
      "13     1014       Mouse  Accessories         7     20     Nina  South    140\n",
      "14     1015      Laptop  Electronics         5    750    Oscar   East   3750\n",
      "15     1016  Headphones  Accessories         3     35     Paul   West    105\n",
      "16     1017        Desk    Furniture         2    280    Queen  North    560\n",
      "17     1018     Monitor  Electronics         4    220   Robert  South    880\n",
      "18     1019     Printer  Electronics         1    110    Sarah   East    110\n",
      "19     1020       Chair    Furniture         6    180      Tom   West   1080\n"
     ]
    }
   ],
   "execution_count": 1
  },
  {
   "cell_type": "code",
   "id": "20585e88",
   "metadata": {
    "ExecuteTime": {
     "end_time": "2025-09-22T14:34:57.491563Z",
     "start_time": "2025-09-22T14:34:57.486372Z"
    }
   },
   "source": [
    "import pandas as pd\n",
    "\n",
    "# Step 1: Create DataFrame\n",
    "# Step 2: Show first 5 rows\n",
    "print(df.head(5))\n",
    "\n",
    "# Step 3: Print DataFrame shape\n",
    "print()\n",
    "print(\"Shape:\", df.shape)\n",
    "\n",
    "# Step 4: Show column names\n",
    "print(\"Columns:\", df.columns.tolist())\n"
   ],
   "outputs": [
    {
     "name": "stdout",
     "output_type": "stream",
     "text": [
      "   OrderID   Product     Category  Quantity  Price Customer Region  Total\n",
      "0     1001    Laptop  Electronics         2    800    Alice  North   1600\n",
      "1     1002     Mouse  Accessories         5     20      Bob  South    100\n",
      "2     1003  Keyboard  Accessories         3     50  Charlie   East    150\n",
      "3     1004   Monitor  Electronics         4    200    Diana   West    800\n",
      "4     1005    Laptop  Electronics         1    850    Ethan  North    850\n",
      "\n",
      "Shape: (20, 8)\n",
      "Columns: ['OrderID', 'Product', 'Category', 'Quantity', 'Price', 'Customer', 'Region', 'Total']\n"
     ]
    }
   ],
   "execution_count": 2
  },
  {
   "cell_type": "code",
   "id": "916fb269",
   "metadata": {
    "ExecuteTime": {
     "end_time": "2025-09-22T14:34:57.513311Z",
     "start_time": "2025-09-22T14:34:57.505860Z"
    }
   },
   "source": [
    "# 2\n",
    "# Step 1: Add Discount column (10% if Quantity >= 5 else 0)\n",
    "df[\"Discount\"] = df.apply(lambda row: 0.10 * row[\"Total\"] if row[\"Quantity\"] >= 5 else 0, axis = 1)\n",
    "print(df.columns.tolist())\n",
    "\n",
    "# Step 2: Add FinalTotal column (Total - discount)\n",
    "df[\"FinalTotal\"] = df[\"Total\"] - df[\"Discount\"]\n",
    "print(df.columns.tolist())\n",
    "\n",
    "# Step 3: Show selected columns\n",
    "print(df[[\"OrderID\", \"Product\", \"Total\", \"Discount\", \"FinalTotal\"]].head(20))\n"
   ],
   "outputs": [
    {
     "name": "stdout",
     "output_type": "stream",
     "text": [
      "['OrderID', 'Product', 'Category', 'Quantity', 'Price', 'Customer', 'Region', 'Total', 'Discount']\n",
      "['OrderID', 'Product', 'Category', 'Quantity', 'Price', 'Customer', 'Region', 'Total', 'Discount', 'FinalTotal']\n",
      "    OrderID     Product  Total  Discount  FinalTotal\n",
      "0      1001      Laptop   1600       0.0      1600.0\n",
      "1      1002       Mouse    100      10.0        90.0\n",
      "2      1003    Keyboard    150       0.0       150.0\n",
      "3      1004     Monitor    800       0.0       800.0\n",
      "4      1005      Laptop    850       0.0       850.0\n",
      "5      1006  Headphones    240      24.0       216.0\n",
      "6      1007       Mouse    250      25.0       225.0\n",
      "7      1008       Chair    300       0.0       300.0\n",
      "8      1009        Desk    300       0.0       300.0\n",
      "9      1010      Laptop   2700       0.0      2700.0\n",
      "10     1011     Printer    240       0.0       240.0\n",
      "11     1012    Keyboard    220       0.0       220.0\n",
      "12     1013     Monitor    500       0.0       500.0\n",
      "13     1014       Mouse    140      14.0       126.0\n",
      "14     1015      Laptop   3750     375.0      3375.0\n",
      "15     1016  Headphones    105       0.0       105.0\n",
      "16     1017        Desk    560       0.0       560.0\n",
      "17     1018     Monitor    880       0.0       880.0\n",
      "18     1019     Printer    110       0.0       110.0\n",
      "19     1020       Chair   1080     108.0       972.0\n"
     ]
    }
   ],
   "execution_count": 3
  },
  {
   "cell_type": "code",
   "id": "d1e303ae",
   "metadata": {
    "ExecuteTime": {
     "end_time": "2025-09-22T14:34:57.536763Z",
     "start_time": "2025-09-22T14:34:57.525743Z"
    }
   },
   "source": [
    "# 3\n",
    "# Step 1: Create new record\n",
    "new_row = {\n",
    "    \"OrderID\": 1021,\n",
    "    \"Product\": \"Tablet\",\n",
    "    \"Category\": \"Electronics\",\n",
    "    \"Quantity\": 2,\n",
    "    \"Price\": 450,\n",
    "    \"Customer\": \"Victor\",\n",
    "    \"Region\": \"East\"\n",
    "}\n",
    "\n",
    "# Step 2: Append to DataFrame\n",
    "df = pd.concat([df, pd.DataFrame([new_row])], ignore_index=True)\n",
    "print(df.tail(1))\n",
    "\n",
    "# Step 3: Recalculate Total\n",
    "df[\"Total\"] = df[\"Quantity\"] * df[\"Price\"]\n",
    "print(df.tail(1))\n",
    "\n",
    "# Step 4: Show last 3 rows\n",
    "print(df.tail(3))\n"
   ],
   "outputs": [
    {
     "name": "stdout",
     "output_type": "stream",
     "text": [
      "    OrderID Product     Category  Quantity  Price Customer Region  Total  \\\n",
      "20     1021  Tablet  Electronics         2    450   Victor   East    NaN   \n",
      "\n",
      "    Discount  FinalTotal  \n",
      "20       NaN         NaN  \n",
      "    OrderID Product     Category  Quantity  Price Customer Region  Total  \\\n",
      "20     1021  Tablet  Electronics         2    450   Victor   East    900   \n",
      "\n",
      "    Discount  FinalTotal  \n",
      "20       NaN         NaN  \n",
      "    OrderID  Product     Category  Quantity  Price Customer Region  Total  \\\n",
      "18     1019  Printer  Electronics         1    110    Sarah   East    110   \n",
      "19     1020    Chair    Furniture         6    180      Tom   West   1080   \n",
      "20     1021   Tablet  Electronics         2    450   Victor   East    900   \n",
      "\n",
      "    Discount  FinalTotal  \n",
      "18       0.0       110.0  \n",
      "19     108.0       972.0  \n",
      "20       NaN         NaN  \n"
     ]
    }
   ],
   "execution_count": 4
  },
  {
   "cell_type": "code",
   "id": "72113225",
   "metadata": {
    "ExecuteTime": {
     "end_time": "2025-09-22T14:34:57.558684Z",
     "start_time": "2025-09-22T14:34:57.549409Z"
    }
   },
   "source": [
    "# 4\n",
    "# Step 1: Update price of Mouse products\n",
    "df.loc[df[\"Product\"] == \"Mouse\", \"Price\"] = 30\n",
    "print(df[df[\"Product\"] == \"Mouse\"])\n",
    "\n",
    "# Step 2: Recalculate Total for affected rows\n",
    "df[\"Total\"] = df[\"Quantity\"] * df[\"Price\"]\n",
    "\n",
    "# Step 3: Show only Mouse rows\n",
    "print(df[df[\"Product\"] == \"Mouse\"])\n"
   ],
   "outputs": [
    {
     "name": "stdout",
     "output_type": "stream",
     "text": [
      "    OrderID Product     Category  Quantity  Price Customer Region  Total  \\\n",
      "1      1002   Mouse  Accessories         5     30      Bob  South    100   \n",
      "6      1007   Mouse  Accessories        10     30   George   East    250   \n",
      "13     1014   Mouse  Accessories         7     30     Nina  South    140   \n",
      "\n",
      "    Discount  FinalTotal  \n",
      "1       10.0        90.0  \n",
      "6       25.0       225.0  \n",
      "13      14.0       126.0  \n",
      "    OrderID Product     Category  Quantity  Price Customer Region  Total  \\\n",
      "1      1002   Mouse  Accessories         5     30      Bob  South    150   \n",
      "6      1007   Mouse  Accessories        10     30   George   East    300   \n",
      "13     1014   Mouse  Accessories         7     30     Nina  South    210   \n",
      "\n",
      "    Discount  FinalTotal  \n",
      "1       10.0        90.0  \n",
      "6       25.0       225.0  \n",
      "13      14.0       126.0  \n"
     ]
    }
   ],
   "execution_count": 5
  },
  {
   "cell_type": "code",
   "id": "6e7b0e29",
   "metadata": {
    "ExecuteTime": {
     "end_time": "2025-09-22T14:34:57.575696Z",
     "start_time": "2025-09-22T14:34:57.570065Z"
    }
   },
   "source": [
    "# 5\n",
    "# Step 1: Drop Discount column\n",
    "df = df.drop(columns=[\"Discount\"])\n",
    "print(df.columns.tolist())\n",
    "\n",
    "# Step 2: Drop FinalTotal column\n",
    "df = df.drop(columns=[\"FinalTotal\"])\n",
    "print(df.columns.tolist())\n",
    "# Step 3: Show updated DataFrame\n",
    "print(df.head())\n"
   ],
   "outputs": [
    {
     "name": "stdout",
     "output_type": "stream",
     "text": [
      "['OrderID', 'Product', 'Category', 'Quantity', 'Price', 'Customer', 'Region', 'Total', 'FinalTotal']\n",
      "['OrderID', 'Product', 'Category', 'Quantity', 'Price', 'Customer', 'Region', 'Total']\n",
      "   OrderID   Product     Category  Quantity  Price Customer Region  Total\n",
      "0     1001    Laptop  Electronics         2    800    Alice  North   1600\n",
      "1     1002     Mouse  Accessories         5     30      Bob  South    150\n",
      "2     1003  Keyboard  Accessories         3     50  Charlie   East    150\n",
      "3     1004   Monitor  Electronics         4    200    Diana   West    800\n",
      "4     1005    Laptop  Electronics         1    850    Ethan  North    850\n"
     ]
    }
   ],
   "execution_count": 6
  },
  {
   "cell_type": "code",
   "id": "48a4b986",
   "metadata": {
    "ExecuteTime": {
     "end_time": "2025-09-22T14:34:57.596156Z",
     "start_time": "2025-09-22T14:34:57.591119Z"
    }
   },
   "source": [
    "# 6\n",
    "# Step 1: Drop row with OrderID = 1010\n",
    "df = df.drop(df[df[\"OrderID\"] == 1010].index, axis=0)\n",
    "\n",
    "# Step 2: Drop the first row by index\n",
    "df = df.drop(index=0)\n",
    "\n",
    "# Step 3: Print new shape\n",
    "print(\"New shape:\", df.shape)\n"
   ],
   "outputs": [
    {
     "name": "stdout",
     "output_type": "stream",
     "text": [
      "New shape: (19, 8)\n"
     ]
    }
   ],
   "execution_count": 7
  },
  {
   "metadata": {
    "ExecuteTime": {
     "end_time": "2025-09-22T14:34:57.620676Z",
     "start_time": "2025-09-22T14:34:57.613203Z"
    }
   },
   "cell_type": "code",
   "source": [
    "# 7\n",
    "# Step 1: Electronics with Quantity >= 3\n",
    "result1 = df[(df[\"Category\"] == \"Electronics\") & (df[\"Quantity\"] >= 3)]\n",
    "print(result1)\n",
    "\n",
    "# Step 2: Products with Price > 500\n",
    "result2 = df[df[\"Price\"] > 500]\n",
    "print(result2)\n",
    "\n",
    "# Step 3: Count orders from North region\n",
    "count_north = df[df[\"Region\"] == \"North\"].shape[0]\n",
    "print(\"North orders:\", count_north)\n"
   ],
   "id": "29c47531cb4f7a89",
   "outputs": [
    {
     "name": "stdout",
     "output_type": "stream",
     "text": [
      "    OrderID  Product     Category  Quantity  Price Customer Region  Total\n",
      "3      1004  Monitor  Electronics         4    200    Diana   West    800\n",
      "14     1015   Laptop  Electronics         5    750    Oscar   East   3750\n",
      "17     1018  Monitor  Electronics         4    220   Robert  South    880\n",
      "    OrderID Product     Category  Quantity  Price Customer Region  Total\n",
      "4      1005  Laptop  Electronics         1    850    Ethan  North    850\n",
      "14     1015  Laptop  Electronics         5    750    Oscar   East   3750\n",
      "North orders: 4\n"
     ]
    }
   ],
   "execution_count": 8
  },
  {
   "metadata": {
    "ExecuteTime": {
     "end_time": "2025-09-22T14:34:57.649376Z",
     "start_time": "2025-09-22T14:34:57.639976Z"
    }
   },
   "cell_type": "code",
   "source": [
    "# 8\n",
    "# Step 1: Sales in West region\n",
    "west_sales = df[df[\"Region\"] == \"West\"]\n",
    "print(west_sales)\n",
    "\n",
    "# Step 2: Sales by Alice\n",
    "alice_sales = df[df[\"Customer\"] == \"Alice\"]\n",
    "print(alice_sales)\n",
    "\n",
    "# Step 3: Sales of Laptop or Printer\n",
    "subset_sales = df[df[\"Product\"].isin([\"Laptop\", \"Printer\"])]\n",
    "print(subset_sales)\n"
   ],
   "id": "dda1dab94d789265",
   "outputs": [
    {
     "name": "stdout",
     "output_type": "stream",
     "text": [
      "    OrderID     Product     Category  Quantity  Price Customer Region  Total\n",
      "3      1004     Monitor  Electronics         4    200    Diana   West    800\n",
      "7      1008       Chair    Furniture         2    150   Hannah   West    300\n",
      "11     1012    Keyboard  Accessories         4     55    Laura   West    220\n",
      "15     1016  Headphones  Accessories         3     35     Paul   West    105\n",
      "19     1020       Chair    Furniture         6    180      Tom   West   1080\n",
      "Empty DataFrame\n",
      "Columns: [OrderID, Product, Category, Quantity, Price, Customer, Region, Total]\n",
      "Index: []\n",
      "    OrderID  Product     Category  Quantity  Price Customer Region  Total\n",
      "4      1005   Laptop  Electronics         1    850    Ethan  North    850\n",
      "10     1011  Printer  Electronics         2    120     Kyle   East    240\n",
      "14     1015   Laptop  Electronics         5    750    Oscar   East   3750\n",
      "18     1019  Printer  Electronics         1    110    Sarah   East    110\n"
     ]
    }
   ],
   "execution_count": 9
  },
  {
   "metadata": {
    "ExecuteTime": {
     "end_time": "2025-09-22T14:34:57.678351Z",
     "start_time": "2025-09-22T14:34:57.671143Z"
    }
   },
   "cell_type": "code",
   "source": [
    "# 9\n",
    "# Step 1: Increase Price of Furniture by 10%\n",
    "df.loc[df[\"Category\"] == \"Furniture\", \"Price\"] *= 1.10\n",
    "\n",
    "# Step 2: Recalculate Total\n",
    "df[\"Total\"] = df[\"Quantity\"] * df[\"Price\"]\n",
    "\n",
    "# Step 3: Show only Furniture rows\n",
    "print(df[df[\"Category\"] == \"Furniture\"])\n"
   ],
   "id": "dbd41731dc209f30",
   "outputs": [
    {
     "name": "stdout",
     "output_type": "stream",
     "text": [
      "    OrderID Product   Category  Quantity  Price Customer Region   Total\n",
      "7      1008   Chair  Furniture         2  165.0   Hannah   West   330.0\n",
      "8      1009    Desk  Furniture         1  330.0      Ian  North   330.0\n",
      "16     1017    Desk  Furniture         2  308.0    Queen  North   616.0\n",
      "19     1020   Chair  Furniture         6  198.0      Tom   West  1188.0\n"
     ]
    },
    {
     "name": "stderr",
     "output_type": "stream",
     "text": [
      "C:\\Users\\Owner\\AppData\\Local\\Temp\\ipykernel_30936\\734823120.py:3: FutureWarning: Setting an item of incompatible dtype is deprecated and will raise an error in a future version of pandas. Value '[165. 330. 308. 198.]' has dtype incompatible with int64, please explicitly cast to a compatible dtype first.\n",
      "  df.loc[df[\"Category\"] == \"Furniture\", \"Price\"] *= 1.10\n"
     ]
    }
   ],
   "execution_count": 10
  },
  {
   "metadata": {
    "ExecuteTime": {
     "end_time": "2025-09-22T14:36:54.011552Z",
     "start_time": "2025-09-22T14:36:54.000781Z"
    }
   },
   "cell_type": "code",
   "source": [
    "# 10\n",
    "# Step 1: Sort by Total descending\n",
    "sorted_df = df.sort_values(by=\"Total\", ascending=False)\n",
    "print(sorted_df.head())\n",
    "print()\n",
    "# Step 2: Show top 5 sales\n",
    "print(sorted_df.head(5))\n",
    "print()\n",
    "# Step 3: Multi-level sort (Region then Customer)\n",
    "multi_sort = df.sort_values(by=[\"Region\", \"Customer\"])\n",
    "print(multi_sort.head(20))\n"
   ],
   "id": "c123e45c89d7be7",
   "outputs": [
    {
     "name": "stdout",
     "output_type": "stream",
     "text": [
      "    OrderID  Product     Category  Quantity  Price Customer Region   Total\n",
      "14     1015   Laptop  Electronics         5  750.0    Oscar   East  3750.0\n",
      "19     1020    Chair    Furniture         6  198.0      Tom   West  1188.0\n",
      "20     1021   Tablet  Electronics         2  450.0   Victor   East   900.0\n",
      "17     1018  Monitor  Electronics         4  220.0   Robert  South   880.0\n",
      "4      1005   Laptop  Electronics         1  850.0    Ethan  North   850.0\n",
      "\n",
      "    OrderID  Product     Category  Quantity  Price Customer Region   Total\n",
      "14     1015   Laptop  Electronics         5  750.0    Oscar   East  3750.0\n",
      "19     1020    Chair    Furniture         6  198.0      Tom   West  1188.0\n",
      "20     1021   Tablet  Electronics         2  450.0   Victor   East   900.0\n",
      "17     1018  Monitor  Electronics         4  220.0   Robert  South   880.0\n",
      "4      1005   Laptop  Electronics         1  850.0    Ethan  North   850.0\n",
      "\n",
      "    OrderID     Product     Category  Quantity  Price Customer Region   Total\n",
      "2      1003    Keyboard  Accessories         3   50.0  Charlie   East   150.0\n",
      "6      1007       Mouse  Accessories        10   30.0   George   East   300.0\n",
      "10     1011     Printer  Electronics         2  120.0     Kyle   East   240.0\n",
      "14     1015      Laptop  Electronics         5  750.0    Oscar   East  3750.0\n",
      "18     1019     Printer  Electronics         1  110.0    Sarah   East   110.0\n",
      "20     1021      Tablet  Electronics         2  450.0   Victor   East   900.0\n",
      "4      1005      Laptop  Electronics         1  850.0    Ethan  North   850.0\n",
      "8      1009        Desk    Furniture         1  330.0      Ian  North   330.0\n",
      "12     1013     Monitor  Electronics         2  250.0     Mike  North   500.0\n",
      "16     1017        Desk    Furniture         2  308.0    Queen  North   616.0\n",
      "1      1002       Mouse  Accessories         5   30.0      Bob  South   150.0\n",
      "5      1006  Headphones  Accessories         6   40.0    Fiona  South   240.0\n",
      "13     1014       Mouse  Accessories         7   30.0     Nina  South   210.0\n",
      "17     1018     Monitor  Electronics         4  220.0   Robert  South   880.0\n",
      "3      1004     Monitor  Electronics         4  200.0    Diana   West   800.0\n",
      "7      1008       Chair    Furniture         2  165.0   Hannah   West   330.0\n",
      "11     1012    Keyboard  Accessories         4   55.0    Laura   West   220.0\n",
      "15     1016  Headphones  Accessories         3   35.0     Paul   West   105.0\n",
      "19     1020       Chair    Furniture         6  198.0      Tom   West  1188.0\n"
     ]
    }
   ],
   "execution_count": 12
  }
 ],
 "metadata": {
  "kernelspec": {
   "display_name": "Python 3",
   "language": "python",
   "name": "python3"
  },
  "language_info": {
   "codemirror_mode": {
    "name": "ipython",
    "version": 3
   },
   "file_extension": ".py",
   "mimetype": "text/x-python",
   "name": "python",
   "nbconvert_exporter": "python",
   "pygments_lexer": "ipython3",
   "version": "3.13.7"
  }
 },
 "nbformat": 4,
 "nbformat_minor": 5
}
